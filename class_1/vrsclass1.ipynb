{
  "nbformat": 4,
  "nbformat_minor": 0,
  "metadata": {
    "colab": {
      "name": "vrsclass1.ipynb",
      "version": "0.3.2",
      "provenance": []
    },
    "kernelspec": {
      "name": "python3",
      "display_name": "Python 3"
    }
  },
  "cells": [
    {
      "cell_type": "code",
      "metadata": {
        "id": "UGSu_Ylbpp-i",
        "colab_type": "code",
        "colab": {
          "base_uri": "https://localhost:8080/",
          "height": 35
        },
        "outputId": "107a9099-cd8b-46c4-97a7-ac939fa925ef"
      },
      "source": [
        "print('hello world ',end = \",\")\n",
        "\n",
        "print(\"welcome to data science class\")"
      ],
      "execution_count": 4,
      "outputs": [
        {
          "output_type": "stream",
          "text": [
            "hello world ,welcome to data science class\n"
          ],
          "name": "stdout"
        }
      ]
    },
    {
      "cell_type": "code",
      "metadata": {
        "id": "ARcocn2orT1e",
        "colab_type": "code",
        "colab": {
          "base_uri": "https://localhost:8080/",
          "height": 35
        },
        "outputId": "12c03412-7cf0-4603-8992-d197bcf9e325"
      },
      "source": [
        "inp = input()"
      ],
      "execution_count": 6,
      "outputs": [
        {
          "output_type": "stream",
          "text": [
            "bittoo\n"
          ],
          "name": "stdout"
        }
      ]
    },
    {
      "cell_type": "code",
      "metadata": {
        "id": "xVCSsprbskK0",
        "colab_type": "code",
        "colab": {
          "base_uri": "https://localhost:8080/",
          "height": 35
        },
        "outputId": "9d41e93f-de02-4b15-d4fb-9f027aedce32"
      },
      "source": [
        "print(inp)"
      ],
      "execution_count": 7,
      "outputs": [
        {
          "output_type": "stream",
          "text": [
            "bittoo\n"
          ],
          "name": "stdout"
        }
      ]
    },
    {
      "cell_type": "code",
      "metadata": {
        "id": "pl89J8TCtmSJ",
        "colab_type": "code",
        "colab": {
          "base_uri": "https://localhost:8080/",
          "height": 35
        },
        "outputId": "e610ef34-f05c-45b6-8e39-c56e2697f13e"
      },
      "source": [
        "inp1 = input()"
      ],
      "execution_count": 8,
      "outputs": [
        {
          "output_type": "stream",
          "text": [
            "123\n"
          ],
          "name": "stdout"
        }
      ]
    },
    {
      "cell_type": "code",
      "metadata": {
        "id": "pWAyTNPnuVyw",
        "colab_type": "code",
        "colab": {
          "base_uri": "https://localhost:8080/",
          "height": 35
        },
        "outputId": "a7f52124-09d1-4a22-a08d-f16be282531d"
      },
      "source": [
        "type(inp1)"
      ],
      "execution_count": 9,
      "outputs": [
        {
          "output_type": "execute_result",
          "data": {
            "text/plain": [
              "str"
            ]
          },
          "metadata": {
            "tags": []
          },
          "execution_count": 9
        }
      ]
    },
    {
      "cell_type": "code",
      "metadata": {
        "id": "jIPurlwXucL-",
        "colab_type": "code",
        "colab": {}
      },
      "source": [
        "inp1 = int(inp1)"
      ],
      "execution_count": 0,
      "outputs": []
    },
    {
      "cell_type": "code",
      "metadata": {
        "id": "Rl4EDMniuuen",
        "colab_type": "code",
        "colab": {
          "base_uri": "https://localhost:8080/",
          "height": 35
        },
        "outputId": "08f9be4d-1290-4adf-b7c7-3a405dc421e9"
      },
      "source": [
        "type(inp1)"
      ],
      "execution_count": 11,
      "outputs": [
        {
          "output_type": "execute_result",
          "data": {
            "text/plain": [
              "int"
            ]
          },
          "metadata": {
            "tags": []
          },
          "execution_count": 11
        }
      ]
    },
    {
      "cell_type": "code",
      "metadata": {
        "id": "tiRjeeQyuwJb",
        "colab_type": "code",
        "colab": {
          "base_uri": "https://localhost:8080/",
          "height": 35
        },
        "outputId": "6b6a5f55-022e-49f3-e6ae-33fe94b11638"
      },
      "source": [
        "inp1%(inp1+1)"
      ],
      "execution_count": 18,
      "outputs": [
        {
          "output_type": "execute_result",
          "data": {
            "text/plain": [
              "123"
            ]
          },
          "metadata": {
            "tags": []
          },
          "execution_count": 18
        }
      ]
    },
    {
      "cell_type": "code",
      "metadata": {
        "id": "H0HJqcdcvE94",
        "colab_type": "code",
        "colab": {
          "base_uri": "https://localhost:8080/",
          "height": 55
        },
        "outputId": "081ed42d-fe31-4da6-fab4-0671a5a02963"
      },
      "source": [
        "2**1000"
      ],
      "execution_count": 21,
      "outputs": [
        {
          "output_type": "execute_result",
          "data": {
            "text/plain": [
              "10715086071862673209484250490600018105614048117055336074437503883703510511249361224931983788156958581275946729175531468251871452856923140435984577574698574803934567774824230985421074605062371141877954182153046474983581941267398767559165543946077062914571196477686542167660429831652624386837205668069376"
            ]
          },
          "metadata": {
            "tags": []
          },
          "execution_count": 21
        }
      ]
    },
    {
      "cell_type": "code",
      "metadata": {
        "id": "gEQKUnYiwr80",
        "colab_type": "code",
        "colab": {
          "base_uri": "https://localhost:8080/",
          "height": 90
        },
        "outputId": "8f21f736-206e-49c6-93d5-0591f2c3fc6b"
      },
      "source": [
        "num = int(input())\n",
        "if(num%2==0):\n",
        "  print(\"even\")\n",
        "  print(\"even block is getting executed\")\n",
        "\n",
        "else:\n",
        "  print(\"odd\")\n",
        "print(\"odd block is getting executed\")\n",
        "  \n",
        "  \n",
        "  "
      ],
      "execution_count": 28,
      "outputs": [
        {
          "output_type": "stream",
          "text": [
            "12\n",
            "even\n",
            "even block is getting executed\n",
            "odd block is getting executed\n"
          ],
          "name": "stdout"
        }
      ]
    },
    {
      "cell_type": "code",
      "metadata": {
        "id": "gUuCZJHi5tLt",
        "colab_type": "code",
        "colab": {
          "base_uri": "https://localhost:8080/",
          "height": 53
        },
        "outputId": "c75d5a1e-3c47-415a-b6c8-192f00d71df9"
      },
      "source": [
        "num1 = int(input())\n",
        "if(num1%3==0):\n",
        "  print(\"Zero\")\n",
        "elif(num1%3==1):\n",
        "  print(\"One\")\n",
        "else:\n",
        "  print(\"Two\")"
      ],
      "execution_count": 29,
      "outputs": [
        {
          "output_type": "stream",
          "text": [
            "39\n",
            "Zero\n"
          ],
          "name": "stdout"
        }
      ]
    },
    {
      "cell_type": "code",
      "metadata": {
        "id": "U3n_ObgP9Xn-",
        "colab_type": "code",
        "colab": {
          "base_uri": "https://localhost:8080/",
          "height": 53
        },
        "outputId": "8d8930d5-9d2c-477a-a4fd-d9b3083623e6"
      },
      "source": [
        "num3 = int(input())\n",
        "currnum = 1\n",
        "while(currnum <= num3 ):\n",
        "  print(currnum,end = \" , \")\n",
        "  currnum = currnum+1"
      ],
      "execution_count": 31,
      "outputs": [
        {
          "output_type": "stream",
          "text": [
            "20\n",
            "1 , 2 , 3 , 4 , 5 , 6 , 7 , 8 , 9 , 10 , 11 , 12 , 13 , 14 , 15 , 16 , 17 , 18 , 19 , 20 , "
          ],
          "name": "stdout"
        }
      ]
    },
    {
      "cell_type": "code",
      "metadata": {
        "id": "Cr86DmxR_VP5",
        "colab_type": "code",
        "colab": {}
      },
      "source": [
        "lis = [1,2,3,4,\"bittoo\",[1,2,3,4]]"
      ],
      "execution_count": 0,
      "outputs": []
    },
    {
      "cell_type": "code",
      "metadata": {
        "id": "2VfpSoF3F065",
        "colab_type": "code",
        "colab": {
          "base_uri": "https://localhost:8080/",
          "height": 35
        },
        "outputId": "5ea48eb1-dd6d-43a3-cd95-deb7aee010fa"
      },
      "source": [
        "lis[4]"
      ],
      "execution_count": 35,
      "outputs": [
        {
          "output_type": "execute_result",
          "data": {
            "text/plain": [
              "'bittoo'"
            ]
          },
          "metadata": {
            "tags": []
          },
          "execution_count": 35
        }
      ]
    },
    {
      "cell_type": "code",
      "metadata": {
        "id": "IaMfWXjwGnha",
        "colab_type": "code",
        "colab": {}
      },
      "source": [
        "lis.append(100)"
      ],
      "execution_count": 0,
      "outputs": []
    },
    {
      "cell_type": "code",
      "metadata": {
        "id": "4OgulYkaG56x",
        "colab_type": "code",
        "colab": {
          "base_uri": "https://localhost:8080/",
          "height": 35
        },
        "outputId": "e5619175-784a-4551-c2b9-d7a962f40fb1"
      },
      "source": [
        "lis"
      ],
      "execution_count": 37,
      "outputs": [
        {
          "output_type": "execute_result",
          "data": {
            "text/plain": [
              "[1, 2, 3, 4, 'bittoo', [1, 2, 3, 4], 100]"
            ]
          },
          "metadata": {
            "tags": []
          },
          "execution_count": 37
        }
      ]
    },
    {
      "cell_type": "code",
      "metadata": {
        "id": "OB-lf7OdG7m9",
        "colab_type": "code",
        "colab": {
          "base_uri": "https://localhost:8080/",
          "height": 144
        },
        "outputId": "103954e9-37c1-4067-f5a7-aa6b6b09493c"
      },
      "source": [
        "for i in lis:\n",
        "  print(i)"
      ],
      "execution_count": 38,
      "outputs": [
        {
          "output_type": "stream",
          "text": [
            "1\n",
            "2\n",
            "3\n",
            "4\n",
            "bittoo\n",
            "[1, 2, 3, 4]\n",
            "100\n"
          ],
          "name": "stdout"
        }
      ]
    },
    {
      "cell_type": "code",
      "metadata": {
        "id": "34dK390EHR6n",
        "colab_type": "code",
        "colab": {
          "base_uri": "https://localhost:8080/",
          "height": 35
        },
        "outputId": "ed47a0fd-95f0-4a05-ce25-1b5c5cbd0185"
      },
      "source": [
        "for i in range(10):\n",
        "  print(i,end = \" \")"
      ],
      "execution_count": 39,
      "outputs": [
        {
          "output_type": "stream",
          "text": [
            "0 1 2 3 4 5 6 7 8 9 "
          ],
          "name": "stdout"
        }
      ]
    },
    {
      "cell_type": "code",
      "metadata": {
        "id": "GpBG4DEBIIit",
        "colab_type": "code",
        "colab": {
          "base_uri": "https://localhost:8080/",
          "height": 35
        },
        "outputId": "a4635ae5-ad83-4033-ce86-414299ed4a50"
      },
      "source": [
        "for i in range(5,10):\n",
        "  print(i,end = \" \")"
      ],
      "execution_count": 40,
      "outputs": [
        {
          "output_type": "stream",
          "text": [
            "5 6 7 8 9 "
          ],
          "name": "stdout"
        }
      ]
    },
    {
      "cell_type": "code",
      "metadata": {
        "id": "3Ds8x9FmI0i0",
        "colab_type": "code",
        "colab": {
          "base_uri": "https://localhost:8080/",
          "height": 108
        },
        "outputId": "0f795181-fd73-4be3-8fef-f439b7554bc4"
      },
      "source": [
        "string1 = \"abcde\"\n",
        "for i in string1:\n",
        "  print(i)"
      ],
      "execution_count": 41,
      "outputs": [
        {
          "output_type": "stream",
          "text": [
            "a\n",
            "b\n",
            "c\n",
            "d\n",
            "e\n"
          ],
          "name": "stdout"
        }
      ]
    },
    {
      "cell_type": "code",
      "metadata": {
        "id": "dUl415eVIljr",
        "colab_type": "code",
        "colab": {}
      },
      "source": [
        "string1 = \"abc\"\n",
        "string2 = \"def\""
      ],
      "execution_count": 0,
      "outputs": []
    },
    {
      "cell_type": "code",
      "metadata": {
        "id": "Rt9V7pRDLUtJ",
        "colab_type": "code",
        "colab": {
          "base_uri": "https://localhost:8080/",
          "height": 35
        },
        "outputId": "2a3ab96d-d7b1-4ebf-e6f0-7ea5f73c86a9"
      },
      "source": [
        "string1+string2"
      ],
      "execution_count": 43,
      "outputs": [
        {
          "output_type": "execute_result",
          "data": {
            "text/plain": [
              "'abcdef'"
            ]
          },
          "metadata": {
            "tags": []
          },
          "execution_count": 43
        }
      ]
    },
    {
      "cell_type": "code",
      "metadata": {
        "id": "yv6LCp84LfZZ",
        "colab_type": "code",
        "colab": {
          "base_uri": "https://localhost:8080/",
          "height": 35
        },
        "outputId": "ca9d3de3-b90d-438b-b66f-b6d8ab4aee60"
      },
      "source": [
        "string1*3"
      ],
      "execution_count": 44,
      "outputs": [
        {
          "output_type": "execute_result",
          "data": {
            "text/plain": [
              "'abcabcabc'"
            ]
          },
          "metadata": {
            "tags": []
          },
          "execution_count": 44
        }
      ]
    },
    {
      "cell_type": "code",
      "metadata": {
        "id": "pSVgi-StLq_B",
        "colab_type": "code",
        "colab": {
          "base_uri": "https://localhost:8080/",
          "height": 35
        },
        "outputId": "239bc00f-631b-45ab-8066-93f14c3c526b"
      },
      "source": [
        "'ac' in string1"
      ],
      "execution_count": 48,
      "outputs": [
        {
          "output_type": "execute_result",
          "data": {
            "text/plain": [
              "False"
            ]
          },
          "metadata": {
            "tags": []
          },
          "execution_count": 48
        }
      ]
    },
    {
      "cell_type": "code",
      "metadata": {
        "id": "Su5vS1tRL5lh",
        "colab_type": "code",
        "colab": {}
      },
      "source": [
        "string1  = \"abcdefghijkl\""
      ],
      "execution_count": 0,
      "outputs": []
    },
    {
      "cell_type": "code",
      "metadata": {
        "id": "A1UOc7iFNM9d",
        "colab_type": "code",
        "colab": {
          "base_uri": "https://localhost:8080/",
          "height": 35
        },
        "outputId": "98fcba38-ce6d-45a7-b4c4-bbf1dbb7f753"
      },
      "source": [
        "string1[len(string1)-1]"
      ],
      "execution_count": 53,
      "outputs": [
        {
          "output_type": "execute_result",
          "data": {
            "text/plain": [
              "'l'"
            ]
          },
          "metadata": {
            "tags": []
          },
          "execution_count": 53
        }
      ]
    },
    {
      "cell_type": "code",
      "metadata": {
        "id": "e8MC0O0nNjrh",
        "colab_type": "code",
        "colab": {
          "base_uri": "https://localhost:8080/",
          "height": 35
        },
        "outputId": "f0613848-c050-409e-9fbf-27901e3aee0d"
      },
      "source": [
        "string1[-2]"
      ],
      "execution_count": 55,
      "outputs": [
        {
          "output_type": "execute_result",
          "data": {
            "text/plain": [
              "'k'"
            ]
          },
          "metadata": {
            "tags": []
          },
          "execution_count": 55
        }
      ]
    },
    {
      "cell_type": "code",
      "metadata": {
        "id": "zrSsA_DvN7Bp",
        "colab_type": "code",
        "colab": {}
      },
      "source": [
        "string_saver = \"\"\n",
        "for i in range(7):\n",
        "  #check number is even\n",
        "  if(i%2==0):\n",
        "    string_saver = string_saver + string1[i]\n",
        "  #save the alphabet"
      ],
      "execution_count": 0,
      "outputs": []
    },
    {
      "cell_type": "code",
      "metadata": {
        "id": "2GRGwTUaPKoH",
        "colab_type": "code",
        "colab": {
          "base_uri": "https://localhost:8080/",
          "height": 35
        },
        "outputId": "dc63daa7-7de3-4641-f1b4-671bd840c633"
      },
      "source": [
        "print(string_saver)"
      ],
      "execution_count": 57,
      "outputs": [
        {
          "output_type": "stream",
          "text": [
            "aceg\n"
          ],
          "name": "stdout"
        }
      ]
    },
    {
      "cell_type": "code",
      "metadata": {
        "id": "5YLDTYlMPNkg",
        "colab_type": "code",
        "colab": {
          "base_uri": "https://localhost:8080/",
          "height": 35
        },
        "outputId": "fff7d419-68b9-48da-f700-8d80f89aa876"
      },
      "source": [
        "print(string1[0:7:2])"
      ],
      "execution_count": 59,
      "outputs": [
        {
          "output_type": "stream",
          "text": [
            "aceg\n"
          ],
          "name": "stdout"
        }
      ]
    },
    {
      "cell_type": "code",
      "metadata": {
        "id": "4s5lWlOqPbYp",
        "colab_type": "code",
        "colab": {
          "base_uri": "https://localhost:8080/",
          "height": 35
        },
        "outputId": "237b29e7-2082-4f6c-802a-0bc2c3ffa8c5"
      },
      "source": [
        "string1.count('z')"
      ],
      "execution_count": 62,
      "outputs": [
        {
          "output_type": "execute_result",
          "data": {
            "text/plain": [
              "0"
            ]
          },
          "metadata": {
            "tags": []
          },
          "execution_count": 62
        }
      ]
    },
    {
      "cell_type": "code",
      "metadata": {
        "id": "YvkT6WmaPtAh",
        "colab_type": "code",
        "colab": {
          "base_uri": "https://localhost:8080/",
          "height": 35
        },
        "outputId": "f7a3270c-8fbb-4df9-e7e9-15d8652ebf09"
      },
      "source": [
        "string1.index('k')"
      ],
      "execution_count": 63,
      "outputs": [
        {
          "output_type": "execute_result",
          "data": {
            "text/plain": [
              "10"
            ]
          },
          "metadata": {
            "tags": []
          },
          "execution_count": 63
        }
      ]
    },
    {
      "cell_type": "code",
      "metadata": {
        "id": "Vf0xLuJEP_VY",
        "colab_type": "code",
        "colab": {
          "base_uri": "https://localhost:8080/",
          "height": 35
        },
        "outputId": "ace84cfe-39ed-4fb3-b153-b75bd4c4af95"
      },
      "source": [
        "string2 = \"reqabcabc\"\n",
        "string2.index('a')"
      ],
      "execution_count": 64,
      "outputs": [
        {
          "output_type": "execute_result",
          "data": {
            "text/plain": [
              "3"
            ]
          },
          "metadata": {
            "tags": []
          },
          "execution_count": 64
        }
      ]
    },
    {
      "cell_type": "code",
      "metadata": {
        "id": "8lu-6FJzQW8Q",
        "colab_type": "code",
        "colab": {}
      },
      "source": [
        "string1 = string1.upper()"
      ],
      "execution_count": 0,
      "outputs": []
    },
    {
      "cell_type": "code",
      "metadata": {
        "id": "dEPNZEbPQhuP",
        "colab_type": "code",
        "colab": {}
      },
      "source": [
        "string3 = \"hey,bittoo,ths,side\""
      ],
      "execution_count": 0,
      "outputs": []
    },
    {
      "cell_type": "code",
      "metadata": {
        "id": "E4MOqa0HQm6a",
        "colab_type": "code",
        "colab": {
          "base_uri": "https://localhost:8080/",
          "height": 35
        },
        "outputId": "af2867b2-b20c-4489-e26c-354c5d0c4569"
      },
      "source": [
        "string3.split(sep = \",\")"
      ],
      "execution_count": 76,
      "outputs": [
        {
          "output_type": "execute_result",
          "data": {
            "text/plain": [
              "['hey', 'bittoo', 'ths', 'side']"
            ]
          },
          "metadata": {
            "tags": []
          },
          "execution_count": 76
        }
      ]
    },
    {
      "cell_type": "code",
      "metadata": {
        "id": "vj-AXCQXREi2",
        "colab_type": "code",
        "colab": {
          "base_uri": "https://localhost:8080/",
          "height": 126
        },
        "outputId": "e8c1bf13-814d-439d-ea21-b07c9b738158"
      },
      "source": [
        "n = int(input())\n",
        "name_avg = []\n",
        "for i in range(n):\n",
        "  line = input()\n",
        "  line = line.split()\n",
        "  sum1 = 0\n",
        "  for j in range(1,len(line)):\n",
        "    sum1 = sum1 + float(line[j])\n",
        "    \n",
        "  name_avg.append([line[0],sum1/3])\n",
        "  \n",
        "query = input()\n",
        "for i in name_avg:\n",
        "  if(i[0]==query):\n",
        "    print(i[1])\n",
        "\n",
        "           \n",
        "           \n",
        "      "
      ],
      "execution_count": 87,
      "outputs": [
        {
          "output_type": "stream",
          "text": [
            "3\n",
            "ha 2 3 4\n",
            "bh 9 8 7\n",
            "rs 3 5 7\n",
            "rs\n",
            "5.0\n"
          ],
          "name": "stdout"
        }
      ]
    },
    {
      "cell_type": "code",
      "metadata": {
        "id": "TP2XCU1eVQmU",
        "colab_type": "code",
        "colab": {
          "base_uri": "https://localhost:8080/",
          "height": 35
        },
        "outputId": "8e724ace-3295-4b96-be03-1237cd17a4b2"
      },
      "source": [
        "name_avg[1][1]"
      ],
      "execution_count": 83,
      "outputs": [
        {
          "output_type": "execute_result",
          "data": {
            "text/plain": [
              "2.0"
            ]
          },
          "metadata": {
            "tags": []
          },
          "execution_count": 83
        }
      ]
    },
    {
      "cell_type": "code",
      "metadata": {
        "id": "pMi7ZNJJY2wI",
        "colab_type": "code",
        "colab": {
          "base_uri": "https://localhost:8080/",
          "height": 53
        },
        "outputId": "35fb021b-33cb-4435-bede-3ece9e3e6d03"
      },
      "source": [
        "for i in name_avg:\n",
        "  print(i[0]==query)"
      ],
      "execution_count": 86,
      "outputs": [
        {
          "output_type": "stream",
          "text": [
            "2.0\n",
            "2.0\n"
          ],
          "name": "stdout"
        }
      ]
    },
    {
      "cell_type": "code",
      "metadata": {
        "id": "tIKt5G6fZ180",
        "colab_type": "code",
        "colab": {
          "base_uri": "https://localhost:8080/",
          "height": 35
        },
        "outputId": "6a372394-414f-494e-a644-828840c4b4d8"
      },
      "source": [
        "\"I got %.2f marks\"%100.0"
      ],
      "execution_count": 89,
      "outputs": [
        {
          "output_type": "execute_result",
          "data": {
            "text/plain": [
              "'I got 100.00 marks'"
            ]
          },
          "metadata": {
            "tags": []
          },
          "execution_count": 89
        }
      ]
    },
    {
      "cell_type": "code",
      "metadata": {
        "id": "97iD0DOAbYsy",
        "colab_type": "code",
        "colab": {}
      },
      "source": [
        "bit.ly/vrsdatascience"
      ],
      "execution_count": 0,
      "outputs": []
    }
  ]
}